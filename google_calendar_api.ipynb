{
 "cells": [
  {
   "cell_type": "code",
   "execution_count": 1,
   "metadata": {},
   "outputs": [],
   "source": [
    "from apiclient.discovery import build\n",
    "from google_auth_oauthlib.flow import InstalledAppFlow"
   ]
  },
  {
   "cell_type": "code",
   "execution_count": 2,
   "metadata": {},
   "outputs": [],
   "source": [
    "scopes = ['https://www.googleapis.com/auth/calendar']"
   ]
  },
  {
   "cell_type": "code",
   "execution_count": 3,
   "metadata": {},
   "outputs": [],
   "source": [
    "import pickle\n",
    "import os"
   ]
  },
  {
   "cell_type": "code",
   "execution_count": 4,
   "metadata": {},
   "outputs": [],
   "source": [
    "if 'token.pkl' in os.listdir():\n",
    "    with open('token.pkl', 'rb') as f:\n",
    "        credentials = pickle.load(f)\n",
    "else:\n",
    "    flow = InstalledAppFlow.from_client_secrets_file('client_secret.json', scopes=scopes)\n",
    "    credentials = flow.run_console()\n",
    "    pickle.dump(credentials, open('token.pkl', 'wb'))"
   ]
  },
  {
   "cell_type": "code",
   "execution_count": 5,
   "metadata": {},
   "outputs": [],
   "source": [
    "service = build('calendar', 'v3', credentials=credentials)"
   ]
  },
  {
   "cell_type": "code",
   "execution_count": 6,
   "metadata": {},
   "outputs": [],
   "source": [
    "result = service.calendarList().list().execute()"
   ]
  },
  {
   "cell_type": "code",
   "execution_count": 7,
   "metadata": {},
   "outputs": [
    {
     "data": {
      "text/plain": [
       "{'kind': 'calendar#calendarListEntry',\n",
       " 'etag': '\"1562811680876000\"',\n",
       " 'id': 'anmoldurgapal612@gmail.com',\n",
       " 'summary': 'anmoldurgapal612@gmail.com',\n",
       " 'timeZone': 'Asia/Kolkata',\n",
       " 'colorId': '14',\n",
       " 'backgroundColor': '#9fe1e7',\n",
       " 'foregroundColor': '#000000',\n",
       " 'selected': True,\n",
       " 'accessRole': 'owner',\n",
       " 'defaultReminders': [{'method': 'popup', 'minutes': 30}],\n",
       " 'notificationSettings': {'notifications': [{'type': 'eventCreation',\n",
       "    'method': 'email'},\n",
       "   {'type': 'eventChange', 'method': 'email'},\n",
       "   {'type': 'eventCancellation', 'method': 'email'},\n",
       "   {'type': 'eventResponse', 'method': 'email'}]},\n",
       " 'primary': True,\n",
       " 'conferenceProperties': {'allowedConferenceSolutionTypes': ['eventHangout']}}"
      ]
     },
     "execution_count": 7,
     "metadata": {},
     "output_type": "execute_result"
    }
   ],
   "source": [
    "result['items'][0]"
   ]
  },
  {
   "cell_type": "code",
   "execution_count": 8,
   "metadata": {},
   "outputs": [],
   "source": [
    "calendar_id = result['items'][0]['id']"
   ]
  },
  {
   "cell_type": "code",
   "execution_count": 13,
   "metadata": {},
   "outputs": [],
   "source": [
    "# result = service.events().list(calendarId=calendar_id, timeZone='Asia/Kolkata').execute()"
   ]
  },
  {
   "cell_type": "code",
   "execution_count": 9,
   "metadata": {},
   "outputs": [],
   "source": [
    "from datetime import datetime, timedelta"
   ]
  },
  {
   "cell_type": "code",
   "execution_count": 10,
   "metadata": {},
   "outputs": [],
   "source": [
    "start_time = datetime(2020, 3, 7, 19, 30, 0)\n",
    "end_time = start_time + timedelta(hours=4)\n",
    "timezone = 'Asia/Kolkata'"
   ]
  },
  {
   "cell_type": "code",
   "execution_count": 11,
   "metadata": {},
   "outputs": [],
   "source": [
    "event = {\n",
    "  'summary': 'Barca vs Some_Team',\n",
    "  'location': None,\n",
    "  'description': 'Spanish LaLiga',\n",
    "  'start': {\n",
    "    'dateTime': start_time.strftime(\"%Y-%m-%dT%H:%M:%S\"),\n",
    "    'timeZone': timezone,\n",
    "  },\n",
    "  'end': {\n",
    "    'dateTime': end_time.strftime(\"%Y-%m-%dT%H:%M:%S\"),\n",
    "    'timeZone': timezone,\n",
    "  },\n",
    "  'reminders': {\n",
    "    'useDefault': False,\n",
    "    'overrides': [\n",
    "      {'method': 'email', 'minutes': 24 * 60},\n",
    "      {'method': 'popup', 'minutes': 10},\n",
    "    ],\n",
    "  },\n",
    "}"
   ]
  },
  {
   "cell_type": "code",
   "execution_count": 12,
   "metadata": {},
   "outputs": [
    {
     "data": {
      "text/plain": [
       "{'kind': 'calendar#event',\n",
       " 'etag': '\"3165909410440000\"',\n",
       " 'id': 'lu4pitherdmruugdgc0b22dgq0',\n",
       " 'status': 'confirmed',\n",
       " 'htmlLink': 'https://www.google.com/calendar/event?eid=bHU0cGl0aGVyZG1ydXVnZGdjMGIyMmRncTAgYW5tb2xkdXJnYXBhbDYxMkBt',\n",
       " 'created': '2020-02-29T05:38:25.000Z',\n",
       " 'updated': '2020-02-29T05:38:25.301Z',\n",
       " 'summary': 'Barca vs Some_Team',\n",
       " 'description': 'Spanish LaLiga',\n",
       " 'creator': {'email': 'anmoldurgapal612@gmail.com', 'self': True},\n",
       " 'organizer': {'email': 'anmoldurgapal612@gmail.com', 'self': True},\n",
       " 'start': {'dateTime': '2020-03-07T19:30:00+05:30',\n",
       "  'timeZone': 'Asia/Kolkata'},\n",
       " 'end': {'dateTime': '2020-03-07T23:30:00+05:30', 'timeZone': 'Asia/Kolkata'},\n",
       " 'iCalUID': 'lu4pitherdmruugdgc0b22dgq0@google.com',\n",
       " 'sequence': 0,\n",
       " 'reminders': {'useDefault': False,\n",
       "  'overrides': [{'method': 'popup', 'minutes': 10},\n",
       "   {'method': 'email', 'minutes': 1440}]}}"
      ]
     },
     "execution_count": 12,
     "metadata": {},
     "output_type": "execute_result"
    }
   ],
   "source": [
    "service.events().insert(calendarId=calendar_id, body=event).execute()"
   ]
  },
  {
   "cell_type": "code",
   "execution_count": 17,
   "metadata": {},
   "outputs": [],
   "source": [
    "result = service.events().list(calendarId=calendar_id, timeZone='Asia/Kolkata').execute()\n",
    "\n",
    "for i in range(0, len(result)):\n",
    "    if result['items'][i]['summary'] == 'Barca vs Some_Team':\n",
    "        index = i\n",
    "        break"
   ]
  },
  {
   "cell_type": "code",
   "execution_count": 18,
   "metadata": {
    "scrolled": false
   },
   "outputs": [
    {
     "data": {
      "text/plain": [
       "{'kind': 'calendar#event',\n",
       " 'etag': '\"3165909410440000\"',\n",
       " 'id': 'lu4pitherdmruugdgc0b22dgq0',\n",
       " 'status': 'confirmed',\n",
       " 'htmlLink': 'https://www.google.com/calendar/event?eid=bHU0cGl0aGVyZG1ydXVnZGdjMGIyMmRncTAgYW5tb2xkdXJnYXBhbDYxMkBt&ctz=Asia/Kolkata',\n",
       " 'created': '2020-02-29T05:38:25.000Z',\n",
       " 'updated': '2020-02-29T05:38:25.301Z',\n",
       " 'summary': 'Barca vs Some_Team',\n",
       " 'description': 'Spanish LaLiga',\n",
       " 'creator': {'email': 'anmoldurgapal612@gmail.com', 'self': True},\n",
       " 'organizer': {'email': 'anmoldurgapal612@gmail.com', 'self': True},\n",
       " 'start': {'dateTime': '2020-03-07T19:30:00+05:30',\n",
       "  'timeZone': 'Asia/Kolkata'},\n",
       " 'end': {'dateTime': '2020-03-07T23:30:00+05:30', 'timeZone': 'Asia/Kolkata'},\n",
       " 'iCalUID': 'lu4pitherdmruugdgc0b22dgq0@google.com',\n",
       " 'sequence': 0,\n",
       " 'reminders': {'useDefault': False,\n",
       "  'overrides': [{'method': 'popup', 'minutes': 10},\n",
       "   {'method': 'email', 'minutes': 1440}]}}"
      ]
     },
     "execution_count": 18,
     "metadata": {},
     "output_type": "execute_result"
    }
   ],
   "source": [
    "result['items'][index]"
   ]
  },
  {
   "cell_type": "code",
   "execution_count": 20,
   "metadata": {},
   "outputs": [],
   "source": [
    "start_time = datetime(2020, 3, 8, 19, 30, 0)\n",
    "end_time = start_time + timedelta(hours=4)\n",
    "timezone = 'Asia/Kolkata'"
   ]
  },
  {
   "cell_type": "code",
   "execution_count": 19,
   "metadata": {},
   "outputs": [],
   "source": [
    "# event = {\n",
    "#          'start': {'dateTime': start_time.strftime(\"%Y-%m-%dT%H:%M:%S\"), 'timeZone': timezone},\n",
    "#          'end': {'dateTime': end_time.strftime(\"%Y-%m-%dT%H:%M:%S\"), 'timeZone': timezone}\n",
    "#         }\n",
    "\n",
    "event = {\n",
    "    'summary': 'Some_Team vs Barca'\n",
    "}\n",
    "\n",
    "event_id = result['items'][index]['id']"
   ]
  },
  {
   "cell_type": "code",
   "execution_count": 20,
   "metadata": {},
   "outputs": [],
   "source": [
    "e = service.events().patch(calendarId=calendar_id, eventId=event_id, body=event).execute()"
   ]
  },
  {
   "cell_type": "code",
   "execution_count": 31,
   "metadata": {},
   "outputs": [],
   "source": [
    "team_name = 'Barcelona'\n",
    "search_term = f'{team_name} sky sports fixtures'"
   ]
  },
  {
   "cell_type": "code",
   "execution_count": 42,
   "metadata": {},
   "outputs": [],
   "source": [
    "## accessing the link of the website\n",
    "import requests\n",
    "from bs4 import BeautifulSoup\n",
    "page = requests.get(f\"https://www.google.dz/search?q={search_term}\")\n",
    "soup = BeautifulSoup(page.content)\n",
    "import re\n",
    "links = soup.findAll(\"a\")\n",
    "for link in  soup.find_all(\"a\",href=re.compile(\"(?<=/url\\?q=)(htt.*://.*)\")):\n",
    "    temp_link = re.split(\":(?=http)\",link[\"href\"].replace(\"/url?q=\",\"\"))\n",
    "    break"
   ]
  },
  {
   "cell_type": "code",
   "execution_count": 43,
   "metadata": {},
   "outputs": [],
   "source": [
    "website_link = temp_link[0].split('&')[0]"
   ]
  },
  {
   "cell_type": "code",
   "execution_count": 44,
   "metadata": {},
   "outputs": [
    {
     "data": {
      "text/plain": [
       "'https://www.skysports.com/barcelona-fixtures'"
      ]
     },
     "execution_count": 44,
     "metadata": {},
     "output_type": "execute_result"
    }
   ],
   "source": [
    "website_link"
   ]
  }
 ],
 "metadata": {
  "kernelspec": {
   "display_name": "Python 3",
   "language": "python",
   "name": "python3"
  },
  "language_info": {
   "codemirror_mode": {
    "name": "ipython",
    "version": 3
   },
   "file_extension": ".py",
   "mimetype": "text/x-python",
   "name": "python",
   "nbconvert_exporter": "python",
   "pygments_lexer": "ipython3",
   "version": "3.7.5"
  }
 },
 "nbformat": 4,
 "nbformat_minor": 2
}

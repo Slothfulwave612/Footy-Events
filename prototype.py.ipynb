{
 "cells": [
  {
   "cell_type": "code",
   "execution_count": 84,
   "metadata": {},
   "outputs": [],
   "source": [
    "import requests\n",
    "from bs4 import BeautifulSoup\n",
    "import pandas as pd"
   ]
  },
  {
   "cell_type": "code",
   "execution_count": 123,
   "metadata": {},
   "outputs": [],
   "source": [
    "## scraping the content from the website\n",
    "scrape_data = requests.get('https://www.skysports.com/ajax-fixtures')\n",
    "soup = BeautifulSoup(scrape_data.text, 'html.parser')"
   ]
  },
  {
   "cell_type": "code",
   "execution_count": 124,
   "metadata": {},
   "outputs": [],
   "source": [
    "## finding the div tag which contains all fixture's information\n",
    "results = soup.find('div', attrs={'class': 'fixres__body'})"
   ]
  },
  {
   "cell_type": "code",
   "execution_count": 125,
   "metadata": {},
   "outputs": [],
   "source": [
    "## scrapping fixuture's date, competition name, team names and timing of the fixtures\n",
    "fix_date = results.find_all('h4')\n",
    "comp_name = results.find_all('h5')\n",
    "teams = results.find_all('span', attrs={'class': 'swap-text__target'})\n",
    "timings = results.find_all('span', attrs={'class': 'matches__date'})"
   ]
  },
  {
   "cell_type": "code",
   "execution_count": 126,
   "metadata": {},
   "outputs": [],
   "source": [
    "## making a list of all dates\n",
    "date_text = []\n",
    "\n",
    "for date in fix_date:\n",
    "    date_text.append(date.text)"
   ]
  },
  {
   "cell_type": "code",
   "execution_count": 127,
   "metadata": {},
   "outputs": [],
   "source": [
    "## making a list of all competition names\n",
    "comp_text = []\n",
    "\n",
    "for comp in comp_name:\n",
    "    comp_text.append(comp.text)"
   ]
  },
  {
   "cell_type": "code",
   "execution_count": 128,
   "metadata": {},
   "outputs": [],
   "source": [
    "## making a list of all team names\n",
    "team_name = []\n",
    "\n",
    "for i in range(0, len(teams), 2):\n",
    "    x = (teams[i].text, teams[i+1].text)\n",
    "    team_name.append(x)"
   ]
  },
  {
   "cell_type": "code",
   "execution_count": 129,
   "metadata": {},
   "outputs": [],
   "source": [
    "## making a list of match times\n",
    "match_time = []\n",
    "\n",
    "for time in timings:\n",
    "    match_time.append(time.text.strip())"
   ]
  },
  {
   "cell_type": "code",
   "execution_count": 130,
   "metadata": {},
   "outputs": [],
   "source": [
    "## making a dictionary that will contain all information\n",
    "\n",
    "final_record = dict()\n",
    "\n",
    "for i in range(len(match_time)):\n",
    "    final_record['Date'] = date_text\n",
    "    final_record['Time'] = match_time\n",
    "    final_record['Home Team'] = [x[0] for x in team_name]\n",
    "    final_record['Away Team'] = [x[1] for x in team_name]\n",
    "    final_record['Competition'] = comp_text"
   ]
  },
  {
   "cell_type": "code",
   "execution_count": 131,
   "metadata": {},
   "outputs": [
    {
     "data": {
      "text/html": [
       "<div>\n",
       "<style scoped>\n",
       "    .dataframe tbody tr th:only-of-type {\n",
       "        vertical-align: middle;\n",
       "    }\n",
       "\n",
       "    .dataframe tbody tr th {\n",
       "        vertical-align: top;\n",
       "    }\n",
       "\n",
       "    .dataframe thead th {\n",
       "        text-align: right;\n",
       "    }\n",
       "</style>\n",
       "<table border=\"1\" class=\"dataframe\">\n",
       "  <thead>\n",
       "    <tr style=\"text-align: right;\">\n",
       "      <th></th>\n",
       "      <th>Date</th>\n",
       "      <th>Time</th>\n",
       "      <th>Home Team</th>\n",
       "      <th>Away Team</th>\n",
       "      <th>Competition</th>\n",
       "    </tr>\n",
       "  </thead>\n",
       "  <tbody>\n",
       "    <tr>\n",
       "      <th>0</th>\n",
       "      <td>Sunday 23rd February</td>\n",
       "      <td>15:45</td>\n",
       "      <td>Heracles Almelo</td>\n",
       "      <td>Ajax</td>\n",
       "      <td>Dutch Eredivisie</td>\n",
       "    </tr>\n",
       "    <tr>\n",
       "      <th>1</th>\n",
       "      <td>Thursday 27th February</td>\n",
       "      <td>20:00</td>\n",
       "      <td>Ajax</td>\n",
       "      <td>Getafe</td>\n",
       "      <td>Europa League</td>\n",
       "    </tr>\n",
       "    <tr>\n",
       "      <th>2</th>\n",
       "      <td>Sunday 1st March</td>\n",
       "      <td>19:00</td>\n",
       "      <td>Ajax</td>\n",
       "      <td>AZ Alkmaar</td>\n",
       "      <td>Dutch Eredivisie</td>\n",
       "    </tr>\n",
       "    <tr>\n",
       "      <th>3</th>\n",
       "      <td>Saturday 7th March</td>\n",
       "      <td>19:45</td>\n",
       "      <td>Heerenveen</td>\n",
       "      <td>Ajax</td>\n",
       "      <td>Dutch Eredivisie</td>\n",
       "    </tr>\n",
       "    <tr>\n",
       "      <th>4</th>\n",
       "      <td>Sunday 15th March</td>\n",
       "      <td>19:00</td>\n",
       "      <td>Ajax</td>\n",
       "      <td>FC Twente</td>\n",
       "      <td>Dutch Eredivisie</td>\n",
       "    </tr>\n",
       "    <tr>\n",
       "      <th>5</th>\n",
       "      <td>Sunday 22nd March</td>\n",
       "      <td>13:30</td>\n",
       "      <td>Feyenoord</td>\n",
       "      <td>Ajax</td>\n",
       "      <td>Dutch Eredivisie</td>\n",
       "    </tr>\n",
       "    <tr>\n",
       "      <th>6</th>\n",
       "      <td>Sunday 5th April</td>\n",
       "      <td>13:30</td>\n",
       "      <td>Ajax</td>\n",
       "      <td>PEC Zwolle</td>\n",
       "      <td>Dutch Eredivisie</td>\n",
       "    </tr>\n",
       "    <tr>\n",
       "      <th>7</th>\n",
       "      <td>Sunday 12th April</td>\n",
       "      <td>13:30</td>\n",
       "      <td>Emmen</td>\n",
       "      <td>Ajax</td>\n",
       "      <td>Dutch Eredivisie</td>\n",
       "    </tr>\n",
       "    <tr>\n",
       "      <th>8</th>\n",
       "      <td>Thursday 23rd April</td>\n",
       "      <td>19:45</td>\n",
       "      <td>Ajax</td>\n",
       "      <td>Vitesse Arnhem</td>\n",
       "      <td>Dutch Eredivisie</td>\n",
       "    </tr>\n",
       "    <tr>\n",
       "      <th>9</th>\n",
       "      <td>Sunday 26th April</td>\n",
       "      <td>13:30</td>\n",
       "      <td>Willem II</td>\n",
       "      <td>Ajax</td>\n",
       "      <td>Dutch Eredivisie</td>\n",
       "    </tr>\n",
       "    <tr>\n",
       "      <th>10</th>\n",
       "      <td>Sunday 3rd May</td>\n",
       "      <td>13:30</td>\n",
       "      <td>Ajax</td>\n",
       "      <td>VVV-Venlo</td>\n",
       "      <td>Dutch Eredivisie</td>\n",
       "    </tr>\n",
       "    <tr>\n",
       "      <th>11</th>\n",
       "      <td>Sunday 10th May</td>\n",
       "      <td>13:30</td>\n",
       "      <td>Fortuna Sittard</td>\n",
       "      <td>Ajax</td>\n",
       "      <td>Dutch Eredivisie</td>\n",
       "    </tr>\n",
       "  </tbody>\n",
       "</table>\n",
       "</div>"
      ],
      "text/plain": [
       "                      Date   Time        Home Team       Away Team  \\\n",
       "0     Sunday 23rd February  15:45  Heracles Almelo            Ajax   \n",
       "1   Thursday 27th February  20:00             Ajax          Getafe   \n",
       "2         Sunday 1st March  19:00             Ajax      AZ Alkmaar   \n",
       "3       Saturday 7th March  19:45       Heerenveen            Ajax   \n",
       "4        Sunday 15th March  19:00             Ajax       FC Twente   \n",
       "5        Sunday 22nd March  13:30        Feyenoord            Ajax   \n",
       "6         Sunday 5th April  13:30             Ajax      PEC Zwolle   \n",
       "7        Sunday 12th April  13:30            Emmen            Ajax   \n",
       "8      Thursday 23rd April  19:45             Ajax  Vitesse Arnhem   \n",
       "9        Sunday 26th April  13:30        Willem II            Ajax   \n",
       "10          Sunday 3rd May  13:30             Ajax       VVV-Venlo   \n",
       "11         Sunday 10th May  13:30  Fortuna Sittard            Ajax   \n",
       "\n",
       "         Competition  \n",
       "0   Dutch Eredivisie  \n",
       "1      Europa League  \n",
       "2   Dutch Eredivisie  \n",
       "3   Dutch Eredivisie  \n",
       "4   Dutch Eredivisie  \n",
       "5   Dutch Eredivisie  \n",
       "6   Dutch Eredivisie  \n",
       "7   Dutch Eredivisie  \n",
       "8   Dutch Eredivisie  \n",
       "9   Dutch Eredivisie  \n",
       "10  Dutch Eredivisie  \n",
       "11  Dutch Eredivisie  "
      ]
     },
     "execution_count": 131,
     "metadata": {},
     "output_type": "execute_result"
    }
   ],
   "source": [
    "## making the dataframe\n",
    "pd.DataFrame(final_record)"
   ]
  }
 ],
 "metadata": {
  "kernelspec": {
   "display_name": "Python 3",
   "language": "python",
   "name": "python3"
  },
  "language_info": {
   "codemirror_mode": {
    "name": "ipython",
    "version": 3
   },
   "file_extension": ".py",
   "mimetype": "text/x-python",
   "name": "python",
   "nbconvert_exporter": "python",
   "pygments_lexer": "ipython3",
   "version": "3.7.5"
  }
 },
 "nbformat": 4,
 "nbformat_minor": 2
}
